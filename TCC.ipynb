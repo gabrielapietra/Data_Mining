{
  "cells": [
    {
      "cell_type": "markdown",
      "metadata": {
        "id": "view-in-github",
        "colab_type": "text"
      },
      "source": [
        "<a href=\"https://colab.research.google.com/github/gabrielapietra/Data_Mining/blob/main/TCC.ipynb\" target=\"_parent\"><img src=\"https://colab.research.google.com/assets/colab-badge.svg\" alt=\"Open In Colab\"/></a>"
      ]
    },
    {
      "cell_type": "code",
      "execution_count": 57,
      "metadata": {
        "id": "_O-UKSeV1xZM"
      },
      "outputs": [],
      "source": [
        "import pandas as pd"
      ]
    },
    {
      "cell_type": "code",
      "execution_count": 58,
      "metadata": {
        "colab": {
          "base_uri": "https://localhost:8080/"
        },
        "id": "xGCymNgn4u14",
        "outputId": "a3554f52-3d68-4932-cce6-79410a4f00cc"
      },
      "outputs": [
        {
          "output_type": "stream",
          "name": "stdout",
          "text": [
            "Drive already mounted at /content/drive; to attempt to forcibly remount, call drive.mount(\"/content/drive\", force_remount=True).\n"
          ]
        }
      ],
      "source": [
        "from google.colab import drive\n",
        "drive.mount('/content/drive')"
      ]
    },
    {
      "cell_type": "markdown",
      "source": [
        "Leitura de todas as bases 2015-2021"
      ],
      "metadata": {
        "id": "IHT_pKkyTcM_"
      }
    },
    {
      "cell_type": "code",
      "execution_count": 59,
      "metadata": {
        "id": "75ktivS24IkC"
      },
      "outputs": [],
      "source": [
        "df_15 = pd.read_csv('/content/drive/My Drive/TCC/CURSOS_2015.CSV', encoding='latin-1', sep=';', low_memory=False)\n",
        "df_16 = pd.read_csv('/content/drive/My Drive/TCC/CURSOS_2016.CSV', encoding='latin-1', sep=';', low_memory=False)\n",
        "df_17 = pd.read_csv('/content/drive/My Drive/TCC/CURSOS_2017.CSV', encoding='latin-1', sep=';', low_memory=False)\n",
        "df_18 = pd.read_csv('/content/drive/My Drive/TCC/CURSOS_2018.CSV', encoding='latin-1', sep=';', low_memory=False)\n",
        "df_19 = pd.read_csv('/content/drive/My Drive/TCC/CURSOS_2019.CSV', encoding='latin-1', sep=';', low_memory=False)\n",
        "df_20 = pd.read_csv('/content/drive/My Drive/TCC/CURSOS_2020.CSV', encoding='latin-1', sep=';', low_memory=False)\n",
        "df_21 = pd.read_csv('/content/drive/My Drive/TCC/CURSOS_2021.CSV', encoding='latin-1', sep=';', low_memory=False)"
      ]
    },
    {
      "cell_type": "markdown",
      "source": [
        "Número de linhas de de colunas por data frame"
      ],
      "metadata": {
        "id": "cLz1IIfhUOEE"
      }
    },
    {
      "cell_type": "code",
      "source": [
        "print(\"2015 - Número de linhas e colunas:\", df_15.shape[0], df_15.shape[1])\n",
        "print(\"2016 - Número de linhas e colunas:\", df_16.shape[0], df_16.shape[1])\n",
        "print(\"2017 - Número de linhas e colunas:\", df_17.shape[0], df_17.shape[1])\n",
        "print(\"2018 - Número de linhas e colunas:\", df_18.shape[0], df_18.shape[1])\n",
        "print(\"2019 - Número de linhas e colunas:\", df_19.shape[0], df_19.shape[1])\n",
        "print(\"2020 - Número de linhas e colunas:\", df_20.shape[0], df_20.shape[1])\n",
        "print(\"2021 - Número de linhas e colunas:\", df_21.shape[0], df_21.shape[1])"
      ],
      "metadata": {
        "colab": {
          "base_uri": "https://localhost:8080/"
        },
        "id": "FQPX7gfIpKHj",
        "outputId": "0e508b2d-96d7-458e-91e6-4c58f7dea3c0"
      },
      "execution_count": 18,
      "outputs": [
        {
          "output_type": "stream",
          "name": "stdout",
          "text": [
            "2015 - Número de linhas e colunas: 81156 200\n",
            "2016 - Número de linhas e colunas: 92866 200\n",
            "2017 - Número de linhas e colunas: 119798 200\n",
            "2018 - Número de linhas e colunas: 182892 200\n",
            "2019 - Número de linhas e colunas: 253139 200\n",
            "2020 - Número de linhas e colunas: 344691 200\n",
            "2021 - Número de linhas e colunas: 444786 200\n"
          ]
        }
      ]
    },
    {
      "cell_type": "markdown",
      "source": [
        "Pré-processamento, filtro por região Sul e cursos *STEM*"
      ],
      "metadata": {
        "id": "Bleert7MUVKo"
      }
    },
    {
      "cell_type": "code",
      "execution_count": 19,
      "metadata": {
        "id": "hZ9CKnSa7wje"
      },
      "outputs": [],
      "source": [
        "df_clean_15 = df_15.query(\"NO_REGIAO == 'Sul' and CO_CINE_AREA_GERAL in [5, 6, 7]\")\n",
        "df_clean_16 = df_16.query(\"NO_REGIAO == 'Sul' and CO_CINE_AREA_GERAL in [5, 6, 7]\")\n",
        "df_clean_17 = df_17.query(\"NO_REGIAO == 'Sul' and CO_CINE_AREA_GERAL in [5, 6, 7]\")\n",
        "df_clean_18 = df_18.query(\"NO_REGIAO == 'Sul' and CO_CINE_AREA_GERAL in [5, 6, 7]\")\n",
        "df_clean_19 = df_19.query(\"NO_REGIAO == 'Sul' and CO_CINE_AREA_GERAL in [5, 6, 7]\")\n",
        "df_clean_20 = df_20.query(\"NO_REGIAO == 'Sul' and CO_CINE_AREA_GERAL in [5, 6, 7]\")\n",
        "df_clean_21 = df_21.query(\"NO_REGIAO == 'Sul' and CO_CINE_AREA_GERAL in [5, 6, 7]\")"
      ]
    },
    {
      "cell_type": "markdown",
      "source": [
        "Número de linhas de de colunas por *data frame* pós filtragem"
      ],
      "metadata": {
        "id": "Lbv-eE6fUfoe"
      }
    },
    {
      "cell_type": "code",
      "source": [
        "print(\"2015 - Número de linhas e colunas:\", df_clean_15.shape[0], df_clean_15.shape[1])\n",
        "print(\"2016 - Número de linhas e colunas:\", df_clean_16.shape[0], df_clean_16.shape[1])\n",
        "print(\"2017 - Número de linhas e colunas:\", df_clean_17.shape[0], df_clean_17.shape[1])\n",
        "print(\"2018 - Número de linhas e colunas:\", df_clean_18.shape[0], df_clean_18.shape[1])\n",
        "print(\"2019 - Número de linhas e colunas:\", df_clean_19.shape[0], df_clean_19.shape[1])\n",
        "print(\"2020 - Número de linhas e colunas:\", df_clean_20.shape[0], df_clean_20.shape[1])\n",
        "print(\"2021 - Número de linhas e colunas:\", df_clean_21.shape[0], df_clean_21.shape[1])"
      ],
      "metadata": {
        "id": "zFaImQJdpTdw",
        "colab": {
          "base_uri": "https://localhost:8080/"
        },
        "outputId": "bebcb8b2-42b6-4ac0-b127-cb1e389d3d2e"
      },
      "execution_count": 37,
      "outputs": [
        {
          "output_type": "stream",
          "name": "stdout",
          "text": [
            "2015 - Número de linhas e colunas: 3017 200\n",
            "2016 - Número de linhas e colunas: 3436 200\n",
            "2017 - Número de linhas e colunas: 4194 200\n",
            "2018 - Número de linhas e colunas: 5979 200\n",
            "2019 - Número de linhas e colunas: 8619 200\n",
            "2020 - Número de linhas e colunas: 13296 200\n",
            "2021 - Número de linhas e colunas: 18642 200\n"
          ]
        }
      ]
    },
    {
      "cell_type": "markdown",
      "source": [
        "Novos *data frames* a partir dos atributos utilizados na análise"
      ],
      "metadata": {
        "id": "FTg1i5ESWO-i"
      }
    },
    {
      "cell_type": "code",
      "execution_count": 50,
      "metadata": {
        "id": "BPKG1c_0-OId"
      },
      "outputs": [],
      "source": [
        "df_new_15 = df_clean_15[['CO_UF', 'CO_MUNICIPIO', 'TP_DIMENSAO', 'TP_ORGANIZACAO_ACADEMICA', 'TP_REDE', 'CO_CINE_AREA_GERAL', 'CO_CINE_ROTULO', 'TP_GRAU_ACADEMICO',\n",
        "                   'TP_MODALIDADE_ENSINO', 'QT_VG_TOTAL', 'QT_VG_TOTAL_DIURNO', 'QT_VG_TOTAL_NOTURNO', 'QT_INSCRITO_TOTAL', 'QT_INSCRITO_TOTAL_DIURNO',\n",
        "                   'QT_INSCRITO_TOTAL_NOTURNO', 'QT_ING', 'QT_ING_FEM', 'QT_ING_MASC', 'QT_ING_DIURNO', 'QT_ING_NOTURNO', 'QT_ING_0_17', 'QT_ING_18_24',\n",
        "                   'QT_ING_25_29', 'QT_ING_30_34','QT_ING_35_39','QT_ING_40_49','QT_ING_50_59','QT_ING_60_MAIS','QT_MAT','QT_MAT_FEM','QT_MAT_MASC','QT_MAT_DIURNO',\n",
        "                   'QT_MAT_NOTURNO','QT_MAT_0_17','QT_MAT_18_24','QT_MAT_25_29','QT_MAT_30_34','QT_MAT_35_39','QT_MAT_40_49','QT_MAT_50_59','QT_MAT_60_MAIS','QT_CONC',\n",
        "                   'QT_CONC_FEM','QT_CONC_MASC','QT_CONC_DIURNO','QT_CONC_NOTURNO','QT_CONC_0_17','QT_CONC_18_24','QT_CONC_25_29','QT_CONC_30_34','QT_CONC_35_39',\n",
        "                   'QT_CONC_40_49','QT_CONC_50_59','QT_CONC_60_MAIS','QT_ING_PROCESCPUBLICA','QT_ING_PROCESCPRIVADA','QT_ING_PROCNAOINFORMADA','QT_MAT_PROCESCPUBLICA',\n",
        "                   'QT_MAT_PROCESCPRIVADA','QT_MAT_PROCNAOINFORMADA','QT_CONC_PROCESCPUBLICA','QT_CONC_PROCESCPRIVADA','QT_CONC_PROCNAOINFORMADA','QT_APOIO_SOCIAL',\n",
        "                   'QT_ING_APOIO_SOCIAL','QT_MAT_APOIO_SOCIAL','QT_CONC_APOIO_SOCIAL','QT_ATIV_EXTRACURRICULAR','QT_ING_ATIV_EXTRACURRICULAR','QT_MAT_ATIV_EXTRACURRICULAR',\n",
        "                   'QT_CONC_ATIV_EXTRACURRICULAR', 'QT_SIT_TRANCADA', 'QT_SIT_DESVINCULADO', 'QT_SIT_FALECIDO']]\n",
        "\n",
        "df_new_16 = df_clean_16[['CO_UF', 'CO_MUNICIPIO', 'TP_DIMENSAO', 'TP_ORGANIZACAO_ACADEMICA', 'TP_REDE', 'CO_CINE_AREA_GERAL','CO_CINE_ROTULO', 'TP_GRAU_ACADEMICO',\n",
        "                   'TP_MODALIDADE_ENSINO', 'QT_VG_TOTAL', 'QT_VG_TOTAL_DIURNO', 'QT_VG_TOTAL_NOTURNO', 'QT_INSCRITO_TOTAL', 'QT_INSCRITO_TOTAL_DIURNO',\n",
        "                   'QT_INSCRITO_TOTAL_NOTURNO', 'QT_ING', 'QT_ING_FEM', 'QT_ING_MASC', 'QT_ING_DIURNO', 'QT_ING_NOTURNO', 'QT_ING_0_17', 'QT_ING_18_24',\n",
        "                   'QT_ING_25_29', 'QT_ING_30_34','QT_ING_35_39','QT_ING_40_49','QT_ING_50_59','QT_ING_60_MAIS','QT_MAT','QT_MAT_FEM','QT_MAT_MASC','QT_MAT_DIURNO',\n",
        "                   'QT_MAT_NOTURNO','QT_MAT_0_17','QT_MAT_18_24','QT_MAT_25_29','QT_MAT_30_34','QT_MAT_35_39','QT_MAT_40_49','QT_MAT_50_59','QT_MAT_60_MAIS','QT_CONC',\n",
        "                   'QT_CONC_FEM','QT_CONC_MASC','QT_CONC_DIURNO','QT_CONC_NOTURNO','QT_CONC_0_17','QT_CONC_18_24','QT_CONC_25_29','QT_CONC_30_34','QT_CONC_35_39',\n",
        "                   'QT_CONC_40_49','QT_CONC_50_59','QT_CONC_60_MAIS','QT_ING_PROCESCPUBLICA','QT_ING_PROCESCPRIVADA','QT_ING_PROCNAOINFORMADA','QT_MAT_PROCESCPUBLICA',\n",
        "                   'QT_MAT_PROCESCPRIVADA','QT_MAT_PROCNAOINFORMADA','QT_CONC_PROCESCPUBLICA','QT_CONC_PROCESCPRIVADA','QT_CONC_PROCNAOINFORMADA','QT_APOIO_SOCIAL',\n",
        "                   'QT_ING_APOIO_SOCIAL','QT_MAT_APOIO_SOCIAL','QT_CONC_APOIO_SOCIAL','QT_ATIV_EXTRACURRICULAR','QT_ING_ATIV_EXTRACURRICULAR','QT_MAT_ATIV_EXTRACURRICULAR',\n",
        "                   'QT_CONC_ATIV_EXTRACURRICULAR', 'QT_SIT_TRANCADA', 'QT_SIT_DESVINCULADO', 'QT_SIT_FALECIDO']]\n",
        "\n",
        "df_new_17 = df_clean_17[['CO_UF', 'CO_MUNICIPIO', 'TP_DIMENSAO', 'TP_ORGANIZACAO_ACADEMICA', 'TP_REDE', 'CO_CINE_AREA_GERAL','CO_CINE_ROTULO', 'TP_GRAU_ACADEMICO',\n",
        "                   'TP_MODALIDADE_ENSINO', 'QT_VG_TOTAL', 'QT_VG_TOTAL_DIURNO', 'QT_VG_TOTAL_NOTURNO', 'QT_INSCRITO_TOTAL', 'QT_INSCRITO_TOTAL_DIURNO',\n",
        "                   'QT_INSCRITO_TOTAL_NOTURNO', 'QT_ING', 'QT_ING_FEM', 'QT_ING_MASC', 'QT_ING_DIURNO', 'QT_ING_NOTURNO', 'QT_ING_0_17', 'QT_ING_18_24',\n",
        "                   'QT_ING_25_29', 'QT_ING_30_34','QT_ING_35_39','QT_ING_40_49','QT_ING_50_59','QT_ING_60_MAIS','QT_MAT','QT_MAT_FEM','QT_MAT_MASC','QT_MAT_DIURNO',\n",
        "                   'QT_MAT_NOTURNO','QT_MAT_0_17','QT_MAT_18_24','QT_MAT_25_29','QT_MAT_30_34','QT_MAT_35_39','QT_MAT_40_49','QT_MAT_50_59','QT_MAT_60_MAIS','QT_CONC',\n",
        "                   'QT_CONC_FEM','QT_CONC_MASC','QT_CONC_DIURNO','QT_CONC_NOTURNO','QT_CONC_0_17','QT_CONC_18_24','QT_CONC_25_29','QT_CONC_30_34','QT_CONC_35_39',\n",
        "                   'QT_CONC_40_49','QT_CONC_50_59','QT_CONC_60_MAIS','QT_ING_PROCESCPUBLICA','QT_ING_PROCESCPRIVADA','QT_ING_PROCNAOINFORMADA','QT_MAT_PROCESCPUBLICA',\n",
        "                   'QT_MAT_PROCESCPRIVADA','QT_MAT_PROCNAOINFORMADA','QT_CONC_PROCESCPUBLICA','QT_CONC_PROCESCPRIVADA','QT_CONC_PROCNAOINFORMADA','QT_APOIO_SOCIAL',\n",
        "                   'QT_ING_APOIO_SOCIAL','QT_MAT_APOIO_SOCIAL','QT_CONC_APOIO_SOCIAL','QT_ATIV_EXTRACURRICULAR','QT_ING_ATIV_EXTRACURRICULAR','QT_MAT_ATIV_EXTRACURRICULAR',\n",
        "                   'QT_CONC_ATIV_EXTRACURRICULAR', 'QT_SIT_TRANCADA', 'QT_SIT_DESVINCULADO', 'QT_SIT_FALECIDO']]\n",
        "\n",
        "df_new_18 = df_clean_18[['CO_UF', 'CO_MUNICIPIO', 'TP_DIMENSAO', 'TP_ORGANIZACAO_ACADEMICA', 'TP_REDE', 'CO_CINE_AREA_GERAL','CO_CINE_ROTULO', 'TP_GRAU_ACADEMICO',\n",
        "                   'TP_MODALIDADE_ENSINO', 'QT_VG_TOTAL', 'QT_VG_TOTAL_DIURNO', 'QT_VG_TOTAL_NOTURNO', 'QT_INSCRITO_TOTAL', 'QT_INSCRITO_TOTAL_DIURNO',\n",
        "                   'QT_INSCRITO_TOTAL_NOTURNO', 'QT_ING', 'QT_ING_FEM', 'QT_ING_MASC', 'QT_ING_DIURNO', 'QT_ING_NOTURNO', 'QT_ING_0_17', 'QT_ING_18_24',\n",
        "                   'QT_ING_25_29', 'QT_ING_30_34','QT_ING_35_39','QT_ING_40_49','QT_ING_50_59','QT_ING_60_MAIS','QT_MAT','QT_MAT_FEM','QT_MAT_MASC','QT_MAT_DIURNO',\n",
        "                   'QT_MAT_NOTURNO','QT_MAT_0_17','QT_MAT_18_24','QT_MAT_25_29','QT_MAT_30_34','QT_MAT_35_39','QT_MAT_40_49','QT_MAT_50_59','QT_MAT_60_MAIS','QT_CONC',\n",
        "                   'QT_CONC_FEM','QT_CONC_MASC','QT_CONC_DIURNO','QT_CONC_NOTURNO','QT_CONC_0_17','QT_CONC_18_24','QT_CONC_25_29','QT_CONC_30_34','QT_CONC_35_39',\n",
        "                   'QT_CONC_40_49','QT_CONC_50_59','QT_CONC_60_MAIS','QT_ING_PROCESCPUBLICA','QT_ING_PROCESCPRIVADA','QT_ING_PROCNAOINFORMADA','QT_MAT_PROCESCPUBLICA',\n",
        "                   'QT_MAT_PROCESCPRIVADA','QT_MAT_PROCNAOINFORMADA','QT_CONC_PROCESCPUBLICA','QT_CONC_PROCESCPRIVADA','QT_CONC_PROCNAOINFORMADA','QT_APOIO_SOCIAL',\n",
        "                   'QT_ING_APOIO_SOCIAL','QT_MAT_APOIO_SOCIAL','QT_CONC_APOIO_SOCIAL','QT_ATIV_EXTRACURRICULAR','QT_ING_ATIV_EXTRACURRICULAR','QT_MAT_ATIV_EXTRACURRICULAR',\n",
        "                   'QT_CONC_ATIV_EXTRACURRICULAR', 'QT_SIT_TRANCADA', 'QT_SIT_DESVINCULADO', 'QT_SIT_FALECIDO']]\n",
        "\n",
        "df_new_19 = df_clean_19[['CO_UF', 'CO_MUNICIPIO', 'TP_DIMENSAO', 'TP_ORGANIZACAO_ACADEMICA', 'TP_REDE', 'CO_CINE_AREA_GERAL','CO_CINE_ROTULO', 'TP_GRAU_ACADEMICO',\n",
        "                   'TP_MODALIDADE_ENSINO', 'QT_VG_TOTAL', 'QT_VG_TOTAL_DIURNO', 'QT_VG_TOTAL_NOTURNO', 'QT_INSCRITO_TOTAL', 'QT_INSCRITO_TOTAL_DIURNO',\n",
        "                   'QT_INSCRITO_TOTAL_NOTURNO', 'QT_ING', 'QT_ING_FEM', 'QT_ING_MASC', 'QT_ING_DIURNO', 'QT_ING_NOTURNO', 'QT_ING_0_17', 'QT_ING_18_24',\n",
        "                   'QT_ING_25_29', 'QT_ING_30_34','QT_ING_35_39','QT_ING_40_49','QT_ING_50_59','QT_ING_60_MAIS','QT_MAT','QT_MAT_FEM','QT_MAT_MASC','QT_MAT_DIURNO',\n",
        "                   'QT_MAT_NOTURNO','QT_MAT_0_17','QT_MAT_18_24','QT_MAT_25_29','QT_MAT_30_34','QT_MAT_35_39','QT_MAT_40_49','QT_MAT_50_59','QT_MAT_60_MAIS','QT_CONC',\n",
        "                   'QT_CONC_FEM','QT_CONC_MASC','QT_CONC_DIURNO','QT_CONC_NOTURNO','QT_CONC_0_17','QT_CONC_18_24','QT_CONC_25_29','QT_CONC_30_34','QT_CONC_35_39',\n",
        "                   'QT_CONC_40_49','QT_CONC_50_59','QT_CONC_60_MAIS','QT_ING_PROCESCPUBLICA','QT_ING_PROCESCPRIVADA','QT_ING_PROCNAOINFORMADA','QT_MAT_PROCESCPUBLICA',\n",
        "                   'QT_MAT_PROCESCPRIVADA','QT_MAT_PROCNAOINFORMADA','QT_CONC_PROCESCPUBLICA','QT_CONC_PROCESCPRIVADA','QT_CONC_PROCNAOINFORMADA','QT_APOIO_SOCIAL',\n",
        "                   'QT_ING_APOIO_SOCIAL','QT_MAT_APOIO_SOCIAL','QT_CONC_APOIO_SOCIAL','QT_ATIV_EXTRACURRICULAR','QT_ING_ATIV_EXTRACURRICULAR','QT_MAT_ATIV_EXTRACURRICULAR',\n",
        "                   'QT_CONC_ATIV_EXTRACURRICULAR', 'QT_SIT_TRANCADA', 'QT_SIT_DESVINCULADO', 'QT_SIT_FALECIDO']]\n",
        "\n",
        "df_new_20 = df_clean_20[['CO_UF', 'CO_MUNICIPIO', 'TP_DIMENSAO', 'TP_ORGANIZACAO_ACADEMICA', 'TP_REDE', 'CO_CINE_AREA_GERAL','CO_CINE_ROTULO2', 'TP_GRAU_ACADEMICO',\n",
        "                   'TP_MODALIDADE_ENSINO', 'QT_VG_TOTAL', 'QT_VG_TOTAL_DIURNO', 'QT_VG_TOTAL_NOTURNO', 'QT_INSCRITO_TOTAL', 'QT_INSCRITO_TOTAL_DIURNO',\n",
        "                   'QT_INSCRITO_TOTAL_NOTURNO', 'QT_ING', 'QT_ING_FEM', 'QT_ING_MASC', 'QT_ING_DIURNO', 'QT_ING_NOTURNO', 'QT_ING_0_17', 'QT_ING_18_24',\n",
        "                   'QT_ING_25_29', 'QT_ING_30_34','QT_ING_35_39','QT_ING_40_49','QT_ING_50_59','QT_ING_60_MAIS','QT_MAT','QT_MAT_FEM','QT_MAT_MASC','QT_MAT_DIURNO',\n",
        "                   'QT_MAT_NOTURNO','QT_MAT_0_17','QT_MAT_18_24','QT_MAT_25_29','QT_MAT_30_34','QT_MAT_35_39','QT_MAT_40_49','QT_MAT_50_59','QT_MAT_60_MAIS','QT_CONC',\n",
        "                   'QT_CONC_FEM','QT_CONC_MASC','QT_CONC_DIURNO','QT_CONC_NOTURNO','QT_CONC_0_17','QT_CONC_18_24','QT_CONC_25_29','QT_CONC_30_34','QT_CONC_35_39',\n",
        "                   'QT_CONC_40_49','QT_CONC_50_59','QT_CONC_60_MAIS','QT_ING_PROCESCPUBLICA','QT_ING_PROCESCPRIVADA','QT_ING_PROCNAOINFORMADA','QT_MAT_PROCESCPUBLICA',\n",
        "                   'QT_MAT_PROCESCPRIVADA','QT_MAT_PROCNAOINFORMADA','QT_CONC_PROCESCPUBLICA','QT_CONC_PROCESCPRIVADA','QT_CONC_PROCNAOINFORMADA','QT_APOIO_SOCIAL',\n",
        "                   'QT_ING_APOIO_SOCIAL','QT_MAT_APOIO_SOCIAL','QT_CONC_APOIO_SOCIAL','QT_ATIV_EXTRACURRICULAR','QT_ING_ATIV_EXTRACURRICULAR','QT_MAT_ATIV_EXTRACURRICULAR',\n",
        "                   'QT_CONC_ATIV_EXTRACURRICULAR', 'QT_SIT_TRANCADA', 'QT_SIT_DESVINCULADO', 'QT_SIT_FALECIDO']]\n",
        "\n",
        "df_new_21 = df_clean_21[['CO_UF', 'CO_MUNICIPIO', 'TP_DIMENSAO', 'TP_ORGANIZACAO_ACADEMICA', 'TP_REDE', 'CO_CINE_AREA_GERAL','CO_CINE_ROTULO', 'TP_GRAU_ACADEMICO',\n",
        "                   'TP_MODALIDADE_ENSINO', 'QT_VG_TOTAL', 'QT_VG_TOTAL_DIURNO', 'QT_VG_TOTAL_NOTURNO', 'QT_INSCRITO_TOTAL', 'QT_INSCRITO_TOTAL_DIURNO',\n",
        "                   'QT_INSCRITO_TOTAL_NOTURNO', 'QT_ING', 'QT_ING_FEM', 'QT_ING_MASC', 'QT_ING_DIURNO', 'QT_ING_NOTURNO', 'QT_ING_0_17', 'QT_ING_18_24',\n",
        "                   'QT_ING_25_29', 'QT_ING_30_34','QT_ING_35_39','QT_ING_40_49','QT_ING_50_59','QT_ING_60_MAIS','QT_MAT','QT_MAT_FEM','QT_MAT_MASC','QT_MAT_DIURNO',\n",
        "                   'QT_MAT_NOTURNO','QT_MAT_0_17','QT_MAT_18_24','QT_MAT_25_29','QT_MAT_30_34','QT_MAT_35_39','QT_MAT_40_49','QT_MAT_50_59','QT_MAT_60_MAIS','QT_CONC',\n",
        "                   'QT_CONC_FEM','QT_CONC_MASC','QT_CONC_DIURNO','QT_CONC_NOTURNO','QT_CONC_0_17','QT_CONC_18_24','QT_CONC_25_29','QT_CONC_30_34','QT_CONC_35_39',\n",
        "                   'QT_CONC_40_49','QT_CONC_50_59','QT_CONC_60_MAIS','QT_ING_PROCESCPUBLICA','QT_ING_PROCESCPRIVADA','QT_ING_PROCNAOINFORMADA','QT_MAT_PROCESCPUBLICA',\n",
        "                   'QT_MAT_PROCESCPRIVADA','QT_MAT_PROCNAOINFORMADA','QT_CONC_PROCESCPUBLICA','QT_CONC_PROCESCPRIVADA','QT_CONC_PROCNAOINFORMADA','QT_APOIO_SOCIAL',\n",
        "                   'QT_ING_APOIO_SOCIAL','QT_MAT_APOIO_SOCIAL','QT_CONC_APOIO_SOCIAL','QT_ATIV_EXTRACURRICULAR','QT_ING_ATIV_EXTRACURRICULAR','QT_MAT_ATIV_EXTRACURRICULAR',\n",
        "                   'QT_CONC_ATIV_EXTRACURRICULAR', 'QT_SIT_TRANCADA', 'QT_SIT_DESVINCULADO', 'QT_SIT_FALECIDO']]"
      ]
    },
    {
      "cell_type": "markdown",
      "source": [
        "Renomeando a variável do conjunto de dados de 2020"
      ],
      "metadata": {
        "id": "tU_W8l6tX85U"
      }
    },
    {
      "cell_type": "code",
      "source": [
        "df_new_20 = df_new_20.rename(columns={'CO_CINE_ROTULO2': 'CO_CINE_ROTULO'})"
      ],
      "metadata": {
        "id": "dyC7IsPnO4e-"
      },
      "execution_count": 51,
      "outputs": []
    },
    {
      "cell_type": "markdown",
      "source": [
        "Adicionando o atributo ANO em todos os conjunto de dados"
      ],
      "metadata": {
        "id": "bgoDOaZWa1yK"
      }
    },
    {
      "cell_type": "code",
      "source": [
        "df_new_15_copy = df_new_15.copy()\n",
        "df_new_15_copy.loc[:, 'ANO'] = 2015\n",
        "df_new_16_copy = df_new_16.copy()\n",
        "df_new_16_copy.loc[:, 'ANO'] = 2016\n",
        "df_new_17_copy = df_new_17.copy()\n",
        "df_new_17_copy.loc[:, 'ANO'] = 2017\n",
        "df_new_18_copy = df_new_18.copy()\n",
        "df_new_18_copy.loc[:, 'ANO'] = 2018\n",
        "df_new_19_copy = df_new_19.copy()\n",
        "df_new_19_copy.loc[:, 'ANO'] = 2019\n",
        "df_new_20_copy = df_new_20.copy()\n",
        "df_new_20_copy.loc[:, 'ANO'] = 2020\n",
        "df_new_21_copy = df_new_21.copy()\n",
        "df_new_21_copy.loc[:, 'ANO'] = 2021"
      ],
      "metadata": {
        "id": "1RD2djzGa1-T"
      },
      "execution_count": 52,
      "outputs": []
    },
    {
      "cell_type": "code",
      "source": [
        "print(\"2015 - Número de linhas e colunas:\", df_new_15_copy.shape[0], df_new_15_copy.shape[1])\n",
        "print(\"2016 - Número de linhas e colunas:\", df_new_16_copy.shape[0], df_new_16_copy.shape[1])\n",
        "print(\"2017 - Número de linhas e colunas:\", df_new_17_copy.shape[0], df_new_17_copy.shape[1])\n",
        "print(\"2018 - Número de linhas e colunas:\", df_new_18_copy.shape[0], df_new_18_copy.shape[1])\n",
        "print(\"2019 - Número de linhas e colunas:\", df_new_19_copy.shape[0], df_new_19_copy.shape[1])\n",
        "print(\"2020 - Número de linhas e colunas:\", df_new_20_copy.shape[0], df_new_20_copy.shape[1])\n",
        "print(\"2021 - Número de linhas e colunas:\", df_new_21_copy.shape[0], df_new_21_copy.shape[1])"
      ],
      "metadata": {
        "colab": {
          "base_uri": "https://localhost:8080/"
        },
        "id": "4k56apRnn4ok",
        "outputId": "14874736-cda6-4dd8-f813-88c6c3fcddb8"
      },
      "execution_count": 43,
      "outputs": [
        {
          "output_type": "stream",
          "name": "stdout",
          "text": [
            "2015 - Número de linhas e colunas: 3017 75\n",
            "2016 - Número de linhas e colunas: 3436 75\n",
            "2017 - Número de linhas e colunas: 4194 75\n",
            "2018 - Número de linhas e colunas: 5979 75\n",
            "2019 - Número de linhas e colunas: 8619 75\n",
            "2020 - Número de linhas e colunas: 13296 75\n",
            "2021 - Número de linhas e colunas: 18642 75\n"
          ]
        }
      ]
    },
    {
      "cell_type": "markdown",
      "source": [
        "Mesclando todos os conjunto de dados"
      ],
      "metadata": {
        "id": "2u0x7s9yX6LZ"
      }
    },
    {
      "cell_type": "code",
      "source": [
        "# Criar uma lista com os dataframes\n",
        "dfs = [df_new_15_copy, df_new_16_copy, df_new_17_copy, df_new_18_copy, df_new_19_copy, df_new_20_copy, df_new_21_copy]\n",
        "\n",
        "# Concatene os DataFrames da lista ao longo do eixo das linhas (axis=0)\n",
        "df_final = pd.concat(dfs, axis=0)\n",
        "\n",
        "# IMPRIMA NÚMERO DE LINHAS\n",
        "df_final.shape[0]"
      ],
      "metadata": {
        "colab": {
          "base_uri": "https://localhost:8080/"
        },
        "id": "0yuW166F01pp",
        "outputId": "eb345d10-042d-44c8-a4eb-3082438268e9"
      },
      "execution_count": 53,
      "outputs": [
        {
          "output_type": "execute_result",
          "data": {
            "text/plain": [
              "57183"
            ]
          },
          "metadata": {},
          "execution_count": 53
        }
      ]
    },
    {
      "cell_type": "markdown",
      "source": [
        "Verificação de valores ausentes e nulos"
      ],
      "metadata": {
        "id": "5Dm6n_IHddYY"
      }
    },
    {
      "cell_type": "code",
      "source": [
        "# Verificar o número de linhas com valores NaN, em branco ou nulos em todas as colunas\n",
        "num_linhas_nulos = df_final.isnull().any(axis=1).sum()\n",
        "\n",
        "print(f\"Número de linhas com valores nulos, em branco ou NaN em todas as colunas: {num_linhas_nulos}\")"
      ],
      "metadata": {
        "id": "DGyXnBA2nbfi",
        "colab": {
          "base_uri": "https://localhost:8080/"
        },
        "outputId": "1e6b47f7-443e-4779-fe81-d22725b3af28"
      },
      "execution_count": 54,
      "outputs": [
        {
          "output_type": "stream",
          "name": "stdout",
          "text": [
            "Número de linhas com valores nulos, em branco ou NaN em todas as colunas: 16528\n"
          ]
        }
      ]
    },
    {
      "cell_type": "code",
      "source": [
        "# Verificar as colunas com valores nulos, em branco ou NaN\n",
        "colunas_nulos = df_final.columns[df_final.isnull().any()].tolist()\n",
        "\n",
        "print(\"Colunas com valores nulos, em branco ou NaN:\")\n",
        "print(colunas_nulos)"
      ],
      "metadata": {
        "colab": {
          "base_uri": "https://localhost:8080/"
        },
        "id": "H19_XQEHqyqI",
        "outputId": "72eb337c-310e-4733-9a8a-5745fe9b2b62"
      },
      "execution_count": 56,
      "outputs": [
        {
          "output_type": "stream",
          "name": "stdout",
          "text": [
            "Colunas com valores nulos, em branco ou NaN:\n",
            "['TP_GRAU_ACADEMICO', 'QT_VG_TOTAL', 'QT_VG_TOTAL_DIURNO', 'QT_VG_TOTAL_NOTURNO', 'QT_INSCRITO_TOTAL', 'QT_INSCRITO_TOTAL_DIURNO', 'QT_INSCRITO_TOTAL_NOTURNO']\n"
          ]
        }
      ]
    },
    {
      "cell_type": "markdown",
      "source": [
        "Limpeza de valores nulos e brancos"
      ],
      "metadata": {
        "id": "iP4juAGGdieC"
      }
    },
    {
      "cell_type": "code",
      "source": [
        "df_final = df_final.dropna(how='any')"
      ],
      "metadata": {
        "id": "3g-unvUR45wi"
      },
      "execution_count": 47,
      "outputs": []
    },
    {
      "cell_type": "markdown",
      "source": [
        "Número final de linhas e colunas"
      ],
      "metadata": {
        "id": "AZ2FjYNSmkJl"
      }
    },
    {
      "cell_type": "code",
      "source": [
        "print(\"Número de linhas e colunas:\", df_final.shape[0], df_final.shape[1])"
      ],
      "metadata": {
        "colab": {
          "base_uri": "https://localhost:8080/"
        },
        "id": "13_gwcMV3LaZ",
        "outputId": "9c7db505-04f8-4837-969e-6b4ea308687f"
      },
      "execution_count": 48,
      "outputs": [
        {
          "output_type": "stream",
          "name": "stdout",
          "text": [
            "Número de linhas e colunas: 40655 75\n"
          ]
        }
      ]
    },
    {
      "cell_type": "markdown",
      "source": [
        "Verificação após limpeza"
      ],
      "metadata": {
        "id": "1KE-UiKOd8nq"
      }
    },
    {
      "cell_type": "code",
      "source": [
        "# Verificar se as colunas possuem valores nulos\n",
        "null_counts = df_final.isnull().sum()\n",
        "cols_with_null = null_counts[null_counts > 0]\n",
        "num_cols_with_null = len(cols_with_null)\n",
        "print(f\"Número de colunas com valores nulos: {num_cols_with_null}\")\n",
        "\n",
        "# Verificar se as colunas contêm valores NaN\n",
        "nan_counts = df_final.isna().sum()\n",
        "cols_with_nan = nan_counts[nan_counts > 0]\n",
        "num_cols_with_nan = len(cols_with_nan)\n",
        "\n",
        "print(f\"Número de colunas com valores NaN: {num_cols_with_nan}\")"
      ],
      "metadata": {
        "colab": {
          "base_uri": "https://localhost:8080/"
        },
        "id": "nbb2Fu2Sducg",
        "outputId": "ad2feb55-3c6c-4f60-9ede-ad2e91719889"
      },
      "execution_count": 11,
      "outputs": [
        {
          "output_type": "stream",
          "name": "stdout",
          "text": [
            "Número de colunas com valores nulos: 0\n",
            "Número de colunas com valores NaN: 0\n"
          ]
        }
      ]
    },
    {
      "cell_type": "markdown",
      "source": [
        "Quantidade de cursos por estado (2015-2021)\n"
      ],
      "metadata": {
        "id": "Ovyhjlpxf6iR"
      }
    },
    {
      "cell_type": "code",
      "source": [
        "anos = [15, 16,17,18,19,20,21]\n",
        "\n",
        "lista_df_agrupados = []\n",
        "\n",
        "for ano in anos:\n",
        "    df_agrupado = globals()[f\"df_new_{ano}\"].groupby('CO_UF').size().reset_index(name='Quantidade')\n",
        "    df_agrupado['ANO'] = 2000 + ano  # Adicione o ano correspondente ao DataFrame agrupado\n",
        "    lista_df_agrupados.append(df_agrupado)\n",
        "\n",
        "for i, df_agrupado in enumerate(lista_df_agrupados):\n",
        "    print(f\"DataFrame {i+1} (Ano {df_agrupado['ANO'].unique()[0]}):\")\n",
        "    print(df_agrupado)\n",
        "    print()"
      ],
      "metadata": {
        "colab": {
          "base_uri": "https://localhost:8080/"
        },
        "id": "USuNvUO4kV6V",
        "outputId": "74367b87-a353-42f2-e863-a9a8a716c8ca"
      },
      "execution_count": 14,
      "outputs": [
        {
          "output_type": "stream",
          "name": "stdout",
          "text": [
            "DataFrame 1 (Ano 2015):\n",
            "   CO_UF  Quantidade   ANO\n",
            "0   41.0        1116  2015\n",
            "1   42.0         783  2015\n",
            "2   43.0        1118  2015\n",
            "\n",
            "DataFrame 2 (Ano 2016):\n",
            "   CO_UF  Quantidade   ANO\n",
            "0   41.0        1271  2016\n",
            "1   42.0         911  2016\n",
            "2   43.0        1254  2016\n",
            "\n",
            "DataFrame 3 (Ano 2017):\n",
            "   CO_UF  Quantidade   ANO\n",
            "0   41.0        1546  2017\n",
            "1   42.0        1106  2017\n",
            "2   43.0        1542  2017\n",
            "\n",
            "DataFrame 4 (Ano 2018):\n",
            "   CO_UF  Quantidade   ANO\n",
            "0   41.0        2243  2018\n",
            "1   42.0        1559  2018\n",
            "2   43.0        2177  2018\n",
            "\n",
            "DataFrame 5 (Ano 2019):\n",
            "   CO_UF  Quantidade   ANO\n",
            "0   41.0        3371  2019\n",
            "1   42.0        2224  2019\n",
            "2   43.0        3024  2019\n",
            "\n",
            "DataFrame 6 (Ano 2020):\n",
            "   CO_UF  Quantidade   ANO\n",
            "0   41.0        5357  2020\n",
            "1   42.0        3370  2020\n",
            "2   43.0        4569  2020\n",
            "\n",
            "DataFrame 7 (Ano 2021):\n",
            "   CO_UF  Quantidade   ANO\n",
            "0   41.0        7631  2021\n",
            "1   42.0        4763  2021\n",
            "2   43.0        6248  2021\n",
            "\n"
          ]
        }
      ]
    },
    {
      "cell_type": "code",
      "source": [
        "for df in dfs:\n",
        "    # Calcule a contagem e a porcentagem da coluna que especifica a instituição de ensino (pública ou privada)\n",
        "    contagem = df['TP_REDE'].value_counts()\n",
        "    porcentagem = df['TP_REDE'].value_counts(normalize=True) * 100\n",
        "\n",
        "    # Crie um novo DataFrame com a contagem e a porcentagem lado a lado\n",
        "    df_contagem_porcentagem = pd.DataFrame({'Contagem': contagem, 'Porcentagem': porcentagem})\n",
        "\n",
        "    # Imprima o novo DataFrame\n",
        "    print(df_contagem_porcentagem)\n",
        "    print()"
      ],
      "metadata": {
        "colab": {
          "base_uri": "https://localhost:8080/"
        },
        "id": "kcZhA3VumE_3",
        "outputId": "dc24cceb-394e-44de-d4f6-d79185b2707d"
      },
      "execution_count": null,
      "outputs": [
        {
          "output_type": "stream",
          "name": "stdout",
          "text": [
            "   Contagem  Porcentagem\n",
            "2      2427     80.44415\n",
            "1       590     19.55585\n",
            "\n",
            "   Contagem  Porcentagem\n",
            "2      2854      83.0617\n",
            "1       582      16.9383\n",
            "\n",
            "   Contagem  Porcentagem\n",
            "2      3631    86.576061\n",
            "1       563    13.423939\n",
            "\n",
            "   Contagem  Porcentagem\n",
            "2      5413    90.533534\n",
            "1       566     9.466466\n",
            "\n",
            "   Contagem  Porcentagem\n",
            "2      8040    93.282283\n",
            "1       579     6.717717\n",
            "\n",
            "   Contagem  Porcentagem\n",
            "2     12705    95.555054\n",
            "1       591     4.444946\n",
            "\n",
            "   Contagem  Porcentagem\n",
            "2     18052    96.835104\n",
            "1       590     3.164896\n",
            "\n"
          ]
        }
      ]
    },
    {
      "cell_type": "code",
      "source": [
        "for df in dfs:\n",
        "    contagem = df.groupby(['Ano', 'TP_REDE', 'TP_DIMENSAO'])['CO_MUNICIPIO'].count().reset_index()\n",
        "\n",
        "    # Calcule a porcentagem em relação ao total por ano\n",
        "    contagem['Porcentagem'] = contagem.groupby('Ano')['CO_MUNICIPIO'].apply(lambda x: (x / x.sum()) * 100)\n",
        "\n",
        "    # Imprima o resultado\n",
        "    print(contagem)\n",
        "    print()\n",
        "\n",
        "#1. Cursos presenciais ofertados no Brasil\n",
        "#2. Cursos a distância ofertados no Brasi"
      ],
      "metadata": {
        "colab": {
          "base_uri": "https://localhost:8080/"
        },
        "id": "5iMuTz_nENzQ",
        "outputId": "fc0dd765-a9df-4d7c-88cc-a037c42b1c8f"
      },
      "execution_count": null,
      "outputs": [
        {
          "output_type": "stream",
          "name": "stdout",
          "text": [
            "    Ano  TP_REDE  TP_DIMENSAO  CO_MUNICIPIO  Porcentagem\n",
            "0  2015        1            1           584    19.356977\n",
            "1  2015        1            2             6     0.198873\n",
            "2  2015        2            1          1060    35.134239\n",
            "3  2015        2            2          1367    45.309911\n",
            "\n",
            "    Ano  TP_REDE  TP_DIMENSAO  CO_MUNICIPIO  Porcentagem\n",
            "0  2016        1            1           579    16.850990\n",
            "1  2016        1            2             3     0.087311\n",
            "2  2016        2            1          1123    32.683353\n",
            "3  2016        2            2          1731    50.378347\n",
            "\n",
            "    Ano  TP_REDE  TP_DIMENSAO  CO_MUNICIPIO  Porcentagem\n",
            "0  2017        1            1           562    13.400095\n",
            "1  2017        1            2             1     0.023844\n",
            "2  2017        2            1          1195    28.493085\n",
            "3  2017        2            2          2436    58.082976\n",
            "\n",
            "    Ano  TP_REDE  TP_DIMENSAO  CO_MUNICIPIO  Porcentagem\n",
            "0  2018        1            1           566     9.466466\n",
            "1  2018        2            1          1225    20.488376\n",
            "2  2018        2            2          4188    70.045158\n",
            "\n",
            "    Ano  TP_REDE  TP_DIMENSAO  CO_MUNICIPIO  Porcentagem\n",
            "0  2019        1            1           576     6.682910\n",
            "1  2019        1            2             3     0.034807\n",
            "2  2019        2            1          1251    14.514445\n",
            "3  2019        2            2          6789    78.767838\n",
            "\n",
            "    Ano  TP_REDE  TP_DIMENSAO  CO_MUNICIPIO  Porcentagem\n",
            "0  2020        1            1           582     4.377256\n",
            "1  2020        1            2             9     0.067690\n",
            "2  2020        2            1          1239     9.318592\n",
            "3  2020        2            2         11466    86.236462\n",
            "\n",
            "    Ano  TP_REDE  TP_DIMENSAO  CO_MUNICIPIO  Porcentagem\n",
            "0  2021        1            1           580     3.111254\n",
            "1  2021        1            2            10     0.053642\n",
            "2  2021        2            1          1219     6.538998\n",
            "3  2021        2            2         16833    90.296106\n",
            "\n"
          ]
        },
        {
          "output_type": "stream",
          "name": "stderr",
          "text": [
            "<ipython-input-33-06da82d26a72>:5: FutureWarning: Not prepending group keys to the result index of transform-like apply. In the future, the group keys will be included in the index, regardless of whether the applied function returns a like-indexed object.\n",
            "To preserve the previous behavior, use\n",
            "\n",
            "\t>>> .groupby(..., group_keys=False)\n",
            "\n",
            "To adopt the future behavior and silence this warning, use \n",
            "\n",
            "\t>>> .groupby(..., group_keys=True)\n",
            "  contagem['Porcentagem'] = contagem.groupby('Ano')['CO_MUNICIPIO'].apply(lambda x: (x / x.sum()) * 100)\n",
            "<ipython-input-33-06da82d26a72>:5: FutureWarning: Not prepending group keys to the result index of transform-like apply. In the future, the group keys will be included in the index, regardless of whether the applied function returns a like-indexed object.\n",
            "To preserve the previous behavior, use\n",
            "\n",
            "\t>>> .groupby(..., group_keys=False)\n",
            "\n",
            "To adopt the future behavior and silence this warning, use \n",
            "\n",
            "\t>>> .groupby(..., group_keys=True)\n",
            "  contagem['Porcentagem'] = contagem.groupby('Ano')['CO_MUNICIPIO'].apply(lambda x: (x / x.sum()) * 100)\n",
            "<ipython-input-33-06da82d26a72>:5: FutureWarning: Not prepending group keys to the result index of transform-like apply. In the future, the group keys will be included in the index, regardless of whether the applied function returns a like-indexed object.\n",
            "To preserve the previous behavior, use\n",
            "\n",
            "\t>>> .groupby(..., group_keys=False)\n",
            "\n",
            "To adopt the future behavior and silence this warning, use \n",
            "\n",
            "\t>>> .groupby(..., group_keys=True)\n",
            "  contagem['Porcentagem'] = contagem.groupby('Ano')['CO_MUNICIPIO'].apply(lambda x: (x / x.sum()) * 100)\n",
            "<ipython-input-33-06da82d26a72>:5: FutureWarning: Not prepending group keys to the result index of transform-like apply. In the future, the group keys will be included in the index, regardless of whether the applied function returns a like-indexed object.\n",
            "To preserve the previous behavior, use\n",
            "\n",
            "\t>>> .groupby(..., group_keys=False)\n",
            "\n",
            "To adopt the future behavior and silence this warning, use \n",
            "\n",
            "\t>>> .groupby(..., group_keys=True)\n",
            "  contagem['Porcentagem'] = contagem.groupby('Ano')['CO_MUNICIPIO'].apply(lambda x: (x / x.sum()) * 100)\n",
            "<ipython-input-33-06da82d26a72>:5: FutureWarning: Not prepending group keys to the result index of transform-like apply. In the future, the group keys will be included in the index, regardless of whether the applied function returns a like-indexed object.\n",
            "To preserve the previous behavior, use\n",
            "\n",
            "\t>>> .groupby(..., group_keys=False)\n",
            "\n",
            "To adopt the future behavior and silence this warning, use \n",
            "\n",
            "\t>>> .groupby(..., group_keys=True)\n",
            "  contagem['Porcentagem'] = contagem.groupby('Ano')['CO_MUNICIPIO'].apply(lambda x: (x / x.sum()) * 100)\n",
            "<ipython-input-33-06da82d26a72>:5: FutureWarning: Not prepending group keys to the result index of transform-like apply. In the future, the group keys will be included in the index, regardless of whether the applied function returns a like-indexed object.\n",
            "To preserve the previous behavior, use\n",
            "\n",
            "\t>>> .groupby(..., group_keys=False)\n",
            "\n",
            "To adopt the future behavior and silence this warning, use \n",
            "\n",
            "\t>>> .groupby(..., group_keys=True)\n",
            "  contagem['Porcentagem'] = contagem.groupby('Ano')['CO_MUNICIPIO'].apply(lambda x: (x / x.sum()) * 100)\n",
            "<ipython-input-33-06da82d26a72>:5: FutureWarning: Not prepending group keys to the result index of transform-like apply. In the future, the group keys will be included in the index, regardless of whether the applied function returns a like-indexed object.\n",
            "To preserve the previous behavior, use\n",
            "\n",
            "\t>>> .groupby(..., group_keys=False)\n",
            "\n",
            "To adopt the future behavior and silence this warning, use \n",
            "\n",
            "\t>>> .groupby(..., group_keys=True)\n",
            "  contagem['Porcentagem'] = contagem.groupby('Ano')['CO_MUNICIPIO'].apply(lambda x: (x / x.sum()) * 100)\n"
          ]
        }
      ]
    },
    {
      "cell_type": "code",
      "source": [
        "# Agrupar os dados pelo estado e pelo ano e calcular as contagens\n",
        "contagem_estados_ano = df_final.groupby(['CO_UF', 'Ano'])['CO_UF'].count()\n",
        "\n",
        "# Calcular as porcentagens dos estados dentro de cada ano\n",
        "porcentagens_estados_ano = contagem_estados_ano.groupby('Ano').apply(lambda x: x / x.sum() * 100)\n",
        "\n",
        "# Imprimir as porcentagens dos estados por ano\n",
        "print(porcentagens_estados_ano)\n"
      ],
      "metadata": {
        "colab": {
          "base_uri": "https://localhost:8080/"
        },
        "id": "_WTkF5bAI6z4",
        "outputId": "6e22904f-21b4-4953-b0d9-e704cf2a3eae"
      },
      "execution_count": null,
      "outputs": [
        {
          "output_type": "stream",
          "name": "stdout",
          "text": [
            "Series([], Name: CO_UF, dtype: int64)\n"
          ]
        },
        {
          "output_type": "stream",
          "name": "stderr",
          "text": [
            "<ipython-input-72-39c3e4e26ef8>:5: FutureWarning:\n",
            "\n",
            "Not prepending group keys to the result index of transform-like apply. In the future, the group keys will be included in the index, regardless of whether the applied function returns a like-indexed object.\n",
            "To preserve the previous behavior, use\n",
            "\n",
            "\t>>> .groupby(..., group_keys=False)\n",
            "\n",
            "To adopt the future behavior and silence this warning, use \n",
            "\n",
            "\t>>> .groupby(..., group_keys=True)\n",
            "\n"
          ]
        }
      ]
    },
    {
      "cell_type": "code",
      "source": [
        "#1. Universidade\n",
        "#2. Centro Universitário\n",
        "#3. Faculdade\n",
        "#4. Instituto Federal de Educação, Ciência e Tecnologia\n",
        "#5. Centro Federal de Educação Tecnológica\n",
        "\n",
        "# Agrupar por ano e tipo de organização acadêmica e contar o número de cursos\n",
        "contagem = df_final.groupby(['Ano', 'TP_ORGANIZACAO_ACADEMICA']).size().unstack()\n",
        "\n",
        "# Calcular as porcentagens para cada tipo de organização acadêmica\n",
        "porcentagens = contagem.div(contagem.sum(axis=1), axis=0) * 100\n",
        "\n",
        "# Exibir a tabela de porcentagens\n",
        "print(porcentagens)\n"
      ],
      "metadata": {
        "colab": {
          "base_uri": "https://localhost:8080/"
        },
        "id": "vQDlRmATBojf",
        "outputId": "c78a9e83-6140-445f-d9c1-785b97530cac"
      },
      "execution_count": null,
      "outputs": [
        {
          "output_type": "stream",
          "name": "stdout",
          "text": [
            "TP_ORGANIZACAO_ACADEMICA          1          2          3         4\n",
            "Ano                                                                \n",
            "2015                      55.751674  11.564212  27.145466  5.538649\n",
            "2016                      53.203998  13.403880  27.454439  5.937684\n",
            "2017                      53.189066  14.066059  26.366743  6.378132\n",
            "2018                      51.564246  15.139665  26.592179  6.703911\n",
            "2019                      50.465244  17.186645  25.013684  7.334428\n",
            "2020                      42.539110  49.420878   6.949458  1.090554\n",
            "2021                      42.763652  53.905160   2.531917  0.799270\n"
          ]
        }
      ]
    },
    {
      "cell_type": "code",
      "source": [
        "df_year = df_final.groupby('Ano').sum()\n",
        "\n",
        "quantidade_total_vagas = df_year['QT_VG_TOTAL']\n",
        "qtd_total_vagas_di = df_year['QT_VG_TOTAL_DIURNO']\n",
        "qtd_total_vagas_not = df_year['QT_VG_TOTAL_NOTURNO']\n",
        "\n",
        "porcentagem_vagas_di = qtd_total_vagas_di / quantidade_total_vagas * 100\n",
        "porcentagem_vagas_not = qtd_total_vagas_not / quantidade_total_vagas * 100\n",
        "\n",
        "anos = df_year.index\n",
        "\n",
        "data = {'Ano': anos,\n",
        "        'Total de Vagas': quantidade_total_vagas,\n",
        "        'Porcentagem Vagas Diurnas': porcentagem_vagas_di,\n",
        "        'Porcentagem Vagas Noturnas': porcentagem_vagas_not}\n",
        "\n",
        "df_porcentagens = pd.DataFrame(data)\n",
        "print(df_porcentagens)\n"
      ],
      "metadata": {
        "colab": {
          "base_uri": "https://localhost:8080/"
        },
        "id": "CxGiDOv_Lq7v",
        "outputId": "4fb7ef81-bc45-450a-a638-bea1eb4ce275"
      },
      "execution_count": null,
      "outputs": [
        {
          "output_type": "stream",
          "name": "stdout",
          "text": [
            "       Ano  Total de Vagas  Porcentagem Vagas Diurnas  \\\n",
            "Ano                                                     \n",
            "2015  2015        213010.0                  32.865124   \n",
            "2016  2016        226394.0                  32.543265   \n",
            "2017  2017        234414.0                  33.422492   \n",
            "2018  2018        226013.0                  32.366280   \n",
            "2019  2019        199153.0                  32.177773   \n",
            "2020  2020        203590.0                  30.965666   \n",
            "2021  2021        176255.0                  29.386968   \n",
            "\n",
            "      Porcentagem Vagas Noturnas  \n",
            "Ano                               \n",
            "2015                   67.134876  \n",
            "2016                   67.456735  \n",
            "2017                   66.577508  \n",
            "2018                   67.633720  \n",
            "2019                   67.822227  \n",
            "2020                   69.034334  \n",
            "2021                   70.613032  \n"
          ]
        },
        {
          "output_type": "stream",
          "name": "stderr",
          "text": [
            "<ipython-input-55-bb4f66348dac>:1: FutureWarning:\n",
            "\n",
            "The default value of numeric_only in DataFrameGroupBy.sum is deprecated. In a future version, numeric_only will default to False. Either specify numeric_only or select only columns which should be valid for the function.\n",
            "\n"
          ]
        }
      ]
    },
    {
      "cell_type": "markdown",
      "source": [
        "# Exportação para ARFF"
      ],
      "metadata": {
        "id": "NL-O_2fvnAH1"
      }
    },
    {
      "cell_type": "code",
      "source": [
        "df_final.to_csv('cursos.csv', index=False)"
      ],
      "metadata": {
        "id": "Gt6pDLrkP7b1"
      },
      "execution_count": null,
      "outputs": []
    },
    {
      "cell_type": "code",
      "source": [
        "import numpy as np"
      ],
      "metadata": {
        "id": "L_wFauYYp-r_"
      },
      "execution_count": null,
      "outputs": []
    },
    {
      "cell_type": "code",
      "source": [
        "def pandas2arff(df,filename,wekaname = \"pandasdata\",cleanstringdata=True,cleannan=True):\n",
        "    \"\"\"\n",
        "    converts the pandas dataframe to a weka compatible file\n",
        "    df: dataframe in pandas format\n",
        "    filename: the filename you want the weka compatible file to be in\n",
        "    wekaname: the name you want to give to the weka dataset (this will be visible to you when you open it in Weka)\n",
        "    cleanstringdata: clean up data which may have spaces and replace with \"_\", special characters etc which seem to annoy Weka.\n",
        "                     To suppress this, set this to False\n",
        "    cleannan: replaces all nan values with \"?\" which is Weka's standard for missing values.\n",
        "              To suppress this, set this to False\n",
        "    \"\"\"\n",
        "    import re\n",
        "\n",
        "    def cleanstring(s):\n",
        "        if s!=\"?\":\n",
        "            return re.sub('[^A-Za-z0-9]+', \"_\", str(s))\n",
        "        else:\n",
        "            return \"?\"\n",
        "\n",
        "    dfcopy = df #all cleaning operations get done on this copy\n",
        "\n",
        "\n",
        "    if cleannan!=False:\n",
        "        dfcopy = dfcopy.fillna(-999999999) #this is so that we can swap this out for \"?\"\n",
        "        #this makes sure that certain numerical columns with missing values don't get stuck with \"object\" type\n",
        "\n",
        "    f = open(filename,\"w\")\n",
        "    arffList = []\n",
        "    arffList.append(\"@relation \" + wekaname + \"\\n\")\n",
        "    #look at each column's dtype. If it's an \"object\", make it \"nominal\" under Weka for now (can be changed in source for dates.. etc)\n",
        "    for i in range(df.shape[1]):\n",
        "        if dfcopy.dtypes[i]=='O' or (df.columns[i] in [\"Class\",\"CLASS\",\"class\"]):\n",
        "            if cleannan!=False:\n",
        "                dfcopy.iloc[:,i] = dfcopy.iloc[:,i].replace(to_replace=-999999999, value=\"?\")\n",
        "            if cleanstringdata!=False:\n",
        "                dfcopy.iloc[:,i] = dfcopy.iloc[:,i].apply(cleanstring)\n",
        "            _uniqueNominalVals = [str(_i) for _i in np.unique(dfcopy.iloc[:,i])]\n",
        "            _uniqueNominalVals = \",\".join(_uniqueNominalVals)\n",
        "            _uniqueNominalVals = _uniqueNominalVals.replace(\"[\",\"\")\n",
        "            _uniqueNominalVals = _uniqueNominalVals.replace(\"]\",\"\")\n",
        "            _uniqueValuesString = \"{\" + _uniqueNominalVals +\"}\"\n",
        "            arffList.append(\"@attribute \" + df.columns[i] + _uniqueValuesString + \"\\n\")\n",
        "        else:\n",
        "            arffList.append(\"@attribute \" + df.columns[i] + \" real\\n\")\n",
        "            #even if it is an integer, let's just deal with it as a real number for now\n",
        "    arffList.append(\"@data\\n\")\n",
        "    for i in range(dfcopy.shape[0]):#instances\n",
        "        _instanceString = \"\"\n",
        "        for j in range(df.shape[1]):#features\n",
        "                if dfcopy.dtypes[j]=='O':\n",
        "                    _instanceString+=\"\\\"\" + str(dfcopy.iloc[i,j]) + \"\\\"\"\n",
        "                else:\n",
        "                    _instanceString+=str(dfcopy.iloc[i,j])\n",
        "                if j!=dfcopy.shape[1]-1:#if it's not the last feature, add a comma\n",
        "                    _instanceString+=\",\"\n",
        "        _instanceString+=\"\\n\"\n",
        "        if cleannan!=False:\n",
        "            _instanceString = _instanceString.replace(\"-999999999.0\",\"?\") #for numeric missing values\n",
        "            _instanceString = _instanceString.replace(\"\\\"?\\\"\",\"?\") #for categorical missing values\n",
        "        arffList.append(_instanceString)\n",
        "    f.writelines(arffList)\n",
        "    f.close()\n",
        "    del dfcopy\n",
        "    return True"
      ],
      "metadata": {
        "id": "DuJ1gG0srG2R"
      },
      "execution_count": null,
      "outputs": []
    },
    {
      "cell_type": "code",
      "source": [
        "df_cursos = pd.read_csv(\"cursos.csv\",na_values=\"NA\")\n",
        "pandas2arff(df_cursos,\"cursos.arff\")"
      ],
      "metadata": {
        "id": "RViyPEwTpdLo",
        "colab": {
          "base_uri": "https://localhost:8080/"
        },
        "outputId": "77e5f48a-a680-4ed4-b0c7-20db182c8638"
      },
      "execution_count": null,
      "outputs": [
        {
          "output_type": "execute_result",
          "data": {
            "text/plain": [
              "True"
            ]
          },
          "metadata": {},
          "execution_count": 122
        }
      ]
    },
    {
      "cell_type": "code",
      "source": [
        "caminho_saida = ('/content/drive/My Drive/TCC/CURSOS.arff')"
      ],
      "metadata": {
        "id": "f8MJc1RjpDLq"
      },
      "execution_count": null,
      "outputs": []
    },
    {
      "cell_type": "code",
      "source": [
        "# Percorra a lista de DataFrames\n",
        "for df in dfs:\n",
        "    # Agrupe os dados por ano e estado e calcule a contagem de cursos\n",
        "    contagem_cursos = df.groupby(['ANO', 'CO_UF'])['CO_MUNICIPIO'].count().reset_index()\n",
        "\n",
        "    # Renomeie a coluna de contagem de cursos para 'Quantidade de Cursos'\n",
        "    contagem_cursos = contagem_cursos.rename(columns={'CO_MUNICIPIO': 'Quantidade de Cursos'})\n",
        "\n",
        "    # Imprima o resultado\n",
        "    print(contagem_cursos)\n",
        "    print()  # Linha em branco para separar os resultados de cada DataFrame\n"
      ],
      "metadata": {
        "colab": {
          "base_uri": "https://localhost:8080/"
        },
        "id": "HqicH4btI-Y3",
        "outputId": "faf3d1f8-6db8-467d-d2d0-65a917401b61"
      },
      "execution_count": 17,
      "outputs": [
        {
          "output_type": "stream",
          "name": "stdout",
          "text": [
            "    ANO  CO_UF  Quantidade de Cursos\n",
            "0  2015   41.0                  1116\n",
            "1  2015   42.0                   783\n",
            "2  2015   43.0                  1118\n",
            "\n",
            "    ANO  CO_UF  Quantidade de Cursos\n",
            "0  2016   41.0                  1116\n",
            "1  2016   42.0                   783\n",
            "2  2016   43.0                  1118\n",
            "\n",
            "    ANO  CO_UF  Quantidade de Cursos\n",
            "0  2017   41.0                  1116\n",
            "1  2017   42.0                   783\n",
            "2  2017   43.0                  1118\n",
            "\n",
            "    ANO  CO_UF  Quantidade de Cursos\n",
            "0  2018   41.0                  1116\n",
            "1  2018   42.0                   783\n",
            "2  2018   43.0                  1118\n",
            "\n",
            "    ANO  CO_UF  Quantidade de Cursos\n",
            "0  2019   41.0                  1116\n",
            "1  2019   42.0                   783\n",
            "2  2019   43.0                  1118\n",
            "\n",
            "    ANO  CO_UF  Quantidade de Cursos\n",
            "0  2020   41.0                  1116\n",
            "1  2020   42.0                   783\n",
            "2  2020   43.0                  1118\n",
            "\n",
            "    ANO  CO_UF  Quantidade de Cursos\n",
            "0  2021   41.0                  1116\n",
            "1  2021   42.0                   783\n",
            "2  2021   43.0                  1118\n",
            "\n"
          ]
        }
      ]
    }
  ],
  "metadata": {
    "colab": {
      "provenance": [],
      "include_colab_link": true
    },
    "kernelspec": {
      "display_name": "Python 3",
      "name": "python3"
    },
    "language_info": {
      "name": "python"
    }
  },
  "nbformat": 4,
  "nbformat_minor": 0
}